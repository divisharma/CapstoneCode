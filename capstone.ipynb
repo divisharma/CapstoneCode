{
 "cells": [
  {
   "cell_type": "code",
   "execution_count": 1,
   "id": "3c45c6dd",
   "metadata": {},
   "outputs": [],
   "source": [
    "from pyspark.sql import SparkSession "
   ]
  },
  {
   "cell_type": "code",
   "execution_count": 2,
   "id": "ad697bd2",
   "metadata": {},
   "outputs": [],
   "source": [
    "spark = SparkSession.builder.appName(\"Capstone project\").enableHiveSupport().getOrCreate()"
   ]
  },
  {
   "cell_type": "code",
   "execution_count": 3,
   "id": "61b9a7cb",
   "metadata": {},
   "outputs": [],
   "source": [
    "from pyspark.sql import HiveContext as hive_context"
   ]
  },
  {
   "cell_type": "code",
   "execution_count": 4,
   "id": "43a8efb5",
   "metadata": {
    "collapsed": true,
    "jupyter": {
     "outputs_hidden": true
    }
   },
   "outputs": [
    {
     "name": "stdout",
     "output_type": "stream",
     "text": [
      "+----------+--------+----------+--------------+-----+-------------+\n",
      "|studentsid|courseid|  examdate|attendedstatus|marks|       result|\n",
      "+----------+--------+----------+--------------+-----+-------------+\n",
      "|     S0001|   C0001|2019-02-17|      Attended|   70|    Qualified|\n",
      "|     S0002|   C0002|2019-02-18|        Absent|    0|Not Qualified|\n",
      "|     S0003|   C0003|2019-02-19|      Attended|   70|    Qualified|\n",
      "|     S0005|   C0005|2019-02-21|        Absent|    0|Not Qualified|\n",
      "|     S0006|   C0006|2019-02-22|        Absent|    0|Not Qualified|\n",
      "|     S0007|   C0007|2019-02-23|        Absent|    0|Not Qualified|\n",
      "|     S0008|   C0008|2019-02-24|      Attended|   70|    Qualified|\n",
      "|     S0010|   C0010|2019-02-26|        Absent|    0|Not Qualified|\n",
      "|     S0011|   C0011|2019-02-27|        Absent|    0|Not Qualified|\n",
      "|     S0012|   C0012|2019-02-28|      Attended|   70|    Qualified|\n",
      "|     S0013|   C0013|2019-03-01|      Attended|   85|    Qualified|\n",
      "|     S0014|   C0014|2019-03-02|        Absent|    0|Not Qualified|\n",
      "|     S0015|   C0015|2019-03-03|        Absent|    0|Not Qualified|\n",
      "|     S0016|   C0016|2019-03-04|        Absent|    0|Not Qualified|\n",
      "|     S0017|   C0017|2019-03-05|        Absent|    0|Not Qualified|\n",
      "|     S0018|   C0018|2019-02-23|      Attended|   70|    Qualified|\n",
      "|     S0019|   C0019|2019-02-18|      Attended|   75|    Qualified|\n",
      "|     S0020|   C0020|2019-02-19|      Attended|   90|    Qualified|\n",
      "|     S0021|   C0021|2019-02-20|      Attended|   90|    Qualified|\n",
      "|     S0022|   C0022|2019-02-27|        Absent|    0|Not Qualified|\n",
      "+----------+--------+----------+--------------+-----+-------------+\n",
      "only showing top 20 rows\n",
      "\n"
     ]
    }
   ],
   "source": [
    "#reading data into a dataframe\n",
    "df=spark.sql(\"select * from cpstn_stdntdb.StudentCourseCompletionStatus\")\n",
    "df.show()"
   ]
  },
  {
   "cell_type": "code",
   "execution_count": 5,
   "id": "ba7e16de",
   "metadata": {},
   "outputs": [
    {
     "name": "stdout",
     "output_type": "stream",
     "text": [
      "+--------+--------------------+--------------------+----------+--------------------+\n",
      "|courseid|               title|          competency|complexity|          coursetype|\n",
      "+--------+--------------------+--------------------+----------+--------------------+\n",
      "|   C0001|Certificate in Cl...|           Technical|     Basic|               Cloud|\n",
      "|   C0002|Certificate in Vi...|           Technical|     Basic|               Cloud|\n",
      "|   C0003|\"Diploma in Infor...| Networking and C...|  Security|               Cloud|\n",
      "|   C0004|BE (Hons) in CSE ...|              Domain|  Advanced|               Cloud|\n",
      "|   C0005|BTech in Computer...|              Domain|  Advanced|               Cloud|\n",
      "|   C0006|BTech in Computer...|              Domain|  Advanced|               Cloud|\n",
      "|   C0007|BCA with Microsof...|            Security|  Advanced|               Cloud|\n",
      "|   C0008|BTech in Informat...|           Technical|  Advanced|               Cloud|\n",
      "|   C0009|MCA with speciali...|           Technical|  Advanced|               Cloud|\n",
      "|   C0010|ME in Cloud Compu...|           Technical|     Basic|               Cloud|\n",
      "|   C0011|MTech Computer Sc...|           Technical|     Basic|               Cloud|\n",
      "|   C0012|Bachelor’s in Com...|              Domain|     Basic|Hardware and Netw...|\n",
      "|   C0013|B.Sc in Hardware ...|              Domain|  Advanced|Hardware and Netw...|\n",
      "|   C0014|BTech in IT and N...|              Domain|     Basic|Hardware and Netw...|\n",
      "|   C0015|BS in Hardware an...|              Domain|     Basic|Hardware and Netw...|\n",
      "|   C0016|BSc in Networking...|              Domain|     Basic|Hardware and Netw...|\n",
      "|   C0017|M.Tech in Network...|              Domain|  Advanced|Hardware and Netw...|\n",
      "|   C0018|M.Sc in Hardware ...|              Domain|  Advanced|Hardware and Netw...|\n",
      "|   C0019|MSc in Wireless N...|              Domain|  Advanced|Hardware and Netw...|\n",
      "|   C0020|Diploma in Comput...|              Domain|  Advanced|Hardware and Netw...|\n",
      "+--------+--------------------+--------------------+----------+--------------------+\n",
      "only showing top 20 rows\n",
      "\n"
     ]
    }
   ],
   "source": [
    "df2=spark.sql(\"select * from cpstn_stdntdb.StudentCourseDetails\")\n",
    "df2.show()"
   ]
  },
  {
   "cell_type": "code",
   "execution_count": 8,
   "id": "28d889c6",
   "metadata": {},
   "outputs": [
    {
     "data": {
      "text/html": [
       "<table border='1'>\n",
       "<tr><th>result</th><th>count</th></tr>\n",
       "<tr><td>Not Qualified</td><td>149</td></tr>\n",
       "<tr><td>Qualified</td><td>151</td></tr>\n",
       "</table>\n"
      ],
      "text/plain": [
       "+-------------+-----+\n",
       "|       result|count|\n",
       "+-------------+-----+\n",
       "|Not Qualified|  149|\n",
       "|    Qualified|  151|\n",
       "+-------------+-----+"
      ]
     },
     "execution_count": 8,
     "metadata": {},
     "output_type": "execute_result"
    }
   ],
   "source": [
    "df.groupBy('result').count()"
   ]
  },
  {
   "cell_type": "code",
   "execution_count": 6,
   "id": "bec38400",
   "metadata": {},
   "outputs": [
    {
     "data": {
      "text/html": [
       "<table border='1'>\n",
       "<tr><th>result</th><th>count</th></tr>\n",
       "<tr><td>Not Qualified</td><td>149</td></tr>\n",
       "<tr><td>Qualified</td><td>151</td></tr>\n",
       "</table>\n"
      ],
      "text/plain": [
       "+-------------+-----+\n",
       "|       result|count|\n",
       "+-------------+-----+\n",
       "|Not Qualified|  149|\n",
       "|    Qualified|  151|\n",
       "+-------------+-----+"
      ]
     },
     "execution_count": 6,
     "metadata": {},
     "output_type": "execute_result"
    }
   ],
   "source": [
    "#spark.sql(\"select result,count(studentsid) as count from cpstn_stdntdb.StudentCourseCompletionStatus group by result\")\n"
   ]
  },
  {
   "cell_type": "code",
   "execution_count": 9,
   "id": "a301dadd",
   "metadata": {},
   "outputs": [
    {
     "data": {
      "text/plain": [
       "149"
      ]
     },
     "execution_count": 9,
     "metadata": {},
     "output_type": "execute_result"
    }
   ],
   "source": [
    "df.where(df['attendedstatus']=='Absent').count()"
   ]
  },
  {
   "cell_type": "code",
   "execution_count": 7,
   "id": "79f68e40",
   "metadata": {},
   "outputs": [
    {
     "data": {
      "text/html": [
       "<table border='1'>\n",
       "<tr><th>absentCount</th></tr>\n",
       "<tr><td>149</td></tr>\n",
       "</table>\n"
      ],
      "text/plain": [
       "+-----------+\n",
       "|absentCount|\n",
       "+-----------+\n",
       "|        149|\n",
       "+-----------+"
      ]
     },
     "execution_count": 7,
     "metadata": {},
     "output_type": "execute_result"
    }
   ],
   "source": [
    "spark.sql(\"select count(studentsid) as absentCount from cpstn_stdntdb.StudentCourseCompletionStatus where attendedstatus = 'Absent'\")"
   ]
  },
  {
   "cell_type": "code",
   "execution_count": 11,
   "id": "f1fa8130",
   "metadata": {},
   "outputs": [
    {
     "data": {
      "text/html": [
       "<table border='1'>\n",
       "<tr><th>maxMarks</th><th>minMarks</th><th>averageMarks</th></tr>\n",
       "<tr><td>92</td><td>0</td><td>40.013333333333335</td></tr>\n",
       "</table>\n"
      ],
      "text/plain": [
       "+--------+--------+------------------+\n",
       "|maxMarks|minMarks|      averageMarks|\n",
       "+--------+--------+------------------+\n",
       "|      92|       0|40.013333333333335|\n",
       "+--------+--------+------------------+"
      ]
     },
     "execution_count": 11,
     "metadata": {},
     "output_type": "execute_result"
    }
   ],
   "source": [
    "spark.sql(\"select max(marks) as maxMarks,min(marks) as minMarks,avg(marks) as averageMarks from cpstn_stdntdb.StudentCourseCompletionStatus\")"
   ]
  },
  {
   "cell_type": "code",
   "execution_count": null,
   "id": "a5ef9e92",
   "metadata": {},
   "outputs": [],
   "source": []
  }
 ],
 "metadata": {
  "kernelspec": {
   "display_name": "Pyspark 3",
   "language": "python",
   "name": "pyspark3"
  },
  "language_info": {
   "codemirror_mode": {
    "name": "ipython",
    "version": 3
   },
   "file_extension": ".py",
   "mimetype": "text/x-python",
   "name": "python",
   "nbconvert_exporter": "python",
   "pygments_lexer": "ipython3",
   "version": "3.6.12"
  }
 },
 "nbformat": 4,
 "nbformat_minor": 5
}
